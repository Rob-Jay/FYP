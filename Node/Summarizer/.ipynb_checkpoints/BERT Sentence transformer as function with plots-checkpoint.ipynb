{
 "cells": [
  {
   "cell_type": "code",
   "execution_count": 1,
   "metadata": {},
   "outputs": [],
   "source": [
    "import time\n",
    "start_time = time.time()\n",
    "import pandas as pd\n",
    "import numpy as np\n",
    "import nltk\n",
    "import torch\n",
    "import matplotlib.pyplot as plt\n",
    "%matplotlib inline\n",
    "import seaborn as sns; sns.set()  # for plot styling\n",
    "import random\n",
    "\n",
    "\n",
    "from sklearn.cluster import KMeans\n",
    "from sklearn import cluster #needed for k-Means clustering\n",
    "from sklearn import preprocessing #needed for scaling attributes to the nterval [0,1]\n",
    "from sklearn.decomposition import PCA\n",
    "from sklearn.cluster import KMeans\n",
    "from sentence_transformers import SentenceTransformer\n",
    "from pytorch_pretrained_bert import BertTokenizer\n",
    "from transformers import BertTokenizer, BertModel"
   ]
  },
  {
   "cell_type": "code",
   "execution_count": 2,
   "metadata": {},
   "outputs": [],
   "source": [
    "tokenizer = BertTokenizer.from_pretrained('bert-base-cased')\n",
    "sentence_tokenizer = nltk.tokenize.sent_tokenize"
   ]
  },
  {
   "cell_type": "code",
   "execution_count": 3,
   "metadata": {},
   "outputs": [],
   "source": [
    "evaluation =False\n",
    "\n",
    "# Load pre-trained model (weights)\n",
    "model = BertModel.from_pretrained('bert-large-cased',\n",
    "                                  output_hidden_states = True, # Whether the model returns all hidden-states.\n",
    "                                  )"
   ]
  },
  {
   "cell_type": "code",
   "execution_count": 4,
   "metadata": {},
   "outputs": [],
   "source": [
    "def transform(sentences, evaluation):\n",
    "    i=1\n",
    "    for sentence in sentences:\n",
    "\n",
    "        # Add the special tokens.\n",
    "        marked_text = \"[CLS] \" + sentence + \" [SEP]\"\n",
    "        # Split the sentence into tokens.\n",
    "        tokenized_text = tokenizer.tokenize(marked_text)\n",
    "        # Map the token strings to their vocabulary indeces.\n",
    "        indexed_tokens = tokenizer.convert_tokens_to_ids(tokenized_text)\n",
    "\n",
    "        \n",
    "        segments_ids = [1] * len(tokenized_text)\n",
    "        #print (segments_ids)\n",
    "\n",
    "        # Convert inputs to PyTorch tensors\n",
    "        tokens_tensor = torch.tensor([indexed_tokens])\n",
    "        segments_tensors = torch.tensor([segments_ids])\n",
    "\n",
    "        if(evaluation ==False):\n",
    "            # Put the model in \"evaluation\" mode, meaning feed-forward operation.\n",
    "            model.eval()\n",
    "            evaluation=True\n",
    "\n",
    "            # Run the text through BERT, and collect all of the hidden states produced\n",
    "            # from all 12 layers. \n",
    "        with torch.no_grad():\n",
    "\n",
    "            outputs = model(tokens_tensor, segments_tensors)\n",
    "            hidden_states = outputs[2]\n",
    "        # `hidden_states` has shape [13 x 1 x 22 x 768]\n",
    "\n",
    "        # `token_vecs` is a tensor with shape [22 x 768]\n",
    "        token_vecs = hidden_states[-2][0]\n",
    "\n",
    "        # Calculate the average of all 22 token vectors.\n",
    "        sentence_embedding = torch.mean(token_vecs, dim=0)\n",
    "        \n",
    "        sentence_embedding = sentence_embedding.numpy()\n",
    "        sentence_embedding = sentence_embedding.reshape(1,-1)\n",
    "        sentence_embedding.shape\n",
    "        sentence_embedding\n",
    "        sentence_transformers.append(sentence_embedding)\n",
    "        i=i+1\n",
    "    return sentence_transformers\n",
    "\n",
    "        \n"
   ]
  },
  {
   "cell_type": "markdown",
   "metadata": {},
   "source": [
    "#  Source text can be supplied below"
   ]
  },
  {
   "cell_type": "code",
   "execution_count": 5,
   "metadata": {},
   "outputs": [],
   "source": [
    "# Define a new example sentence with multiple meanings of the word \"bank\"\n",
    "text = \"\"\"\n",
    "\n",
    "Dublin (/ˈdʌblɪn/, locally /ˈdʊb-/; Irish: Baile Átha Cliath[11] [ˈbˠalʲə aːhə ˈclʲiə; ˌbʲlʲaː ˈclʲiə]) is the capital and largest city of Ireland.[12][13] Situated on a bay on the east coast, at the mouth of the River Liffey, it lies within the province of Leinster. It is bordered on the south by the Dublin Mountains, a part of the Wicklow Mountains range. It has an urban area population of 1,173,179,[7] while the population of the Dublin Region (formerly County Dublin) as of 2016 was 1,347,359.[14] The population of the Greater Dublin Area was 1,904,806 per the 2016 census.[15]\n",
    "\n",
    "There is archaeological debate regarding precisely where Dublin was established by the Gaels in or before the 7th century AD.[16] Later expanded as a Viking settlement, the Kingdom of Dublin, the city became Ireland's principal settlement following the Norman invasion.[16] The city expanded rapidly from the 17th century and was briefly the second largest city in the British Empire after the Acts of Union in 1800. Following the partition of Ireland in 1922, Dublin became the capital of the Irish Free State, later renamed Ireland.\n",
    "\n",
    "Dublin is an historical and contemporary centre for education, the arts, administration and industry. As of 2018 the city was listed by the Globalization and World Cities Research Network (GaWC) as a global city, with a ranking of \"Alpha minus\", which places it amongst the top thirty cities in the world.\n",
    "\n",
    "\"\"\"\n",
    "sentence_transformers= []\n",
    "sentences = sentence_tokenizer(text)\n",
    "sentence_embeddings = transform(sentences, evaluation)\n",
    "\n",
    "\n",
    "\n",
    "   "
   ]
  },
  {
   "cell_type": "code",
   "execution_count": 6,
   "metadata": {},
   "outputs": [
    {
     "name": "stdout",
     "output_type": "stream",
     "text": [
      "Num sentences: 11\n",
      "<class 'list'>\n"
     ]
    }
   ],
   "source": [
    "print(\"Num sentences:\", len(sentences))\n",
    "print(type(sentence_embeddings))"
   ]
  },
  {
   "cell_type": "code",
   "execution_count": 7,
   "metadata": {},
   "outputs": [
    {
     "name": "stdout",
     "output_type": "stream",
     "text": [
      "Sentence: \n",
      "\n",
      "Dublin (/ˈdʌblɪn/, locally /ˈdʊb-/; Irish: Baile Átha Cliath[11] [ˈbˠalʲə aːhə ˈclʲiə; ˌbʲlʲaː ˈclʲiə]) is the capital and largest city of Ireland.\n",
      "Embedding: [[ 0.18925807 -0.3406061   0.16266924 ...  0.04080581 -0.04978079\n",
      "   0.11027201]]\n",
      "\n",
      "Sentence: [12][13] Situated on a bay on the east coast, at the mouth of the River Liffey, it lies within the province of Leinster.\n",
      "Embedding: [[-0.22778521 -0.4932473   0.22299045 ... -0.06602822  0.22566816\n",
      "   0.23998438]]\n",
      "\n",
      "Sentence: It is bordered on the south by the Dublin Mountains, a part of the Wicklow Mountains range.\n",
      "Embedding: [[-0.14970769 -0.09149433  0.10267873 ...  0.06761476  0.2277699\n",
      "   0.12554245]]\n",
      "\n",
      "Sentence: It has an urban area population of 1,173,179,[7] while the population of the Dublin Region (formerly County Dublin) as of 2016 was 1,347,359.\n",
      "Embedding: [[ 0.00840508  0.03848826  0.11674463 ... -0.48626682  0.06740115\n",
      "   0.21800192]]\n",
      "\n",
      "Sentence: [14] The population of the Greater Dublin Area was 1,904,806 per the 2016 census.\n",
      "Embedding: [[ 0.07419498 -0.08777378  0.1197613  ... -0.32827908  0.21188538\n",
      "   0.13478905]]\n",
      "\n",
      "Sentence: [15]\n",
      "\n",
      "There is archaeological debate regarding precisely where Dublin was established by the Gaels in or before the 7th century AD.\n",
      "Embedding: [[ 0.25250036 -0.39298528  0.15407732 ...  0.17599238  0.4819682\n",
      "  -0.00282356]]\n",
      "\n",
      "Sentence: [16] Later expanded as a Viking settlement, the Kingdom of Dublin, the city became Ireland's principal settlement following the Norman invasion.\n",
      "Embedding: [[ 0.457952   -0.06355951  0.30564344 ... -0.07249035  0.33023903\n",
      "  -0.01714457]]\n",
      "\n",
      "Sentence: [16] The city expanded rapidly from the 17th century and was briefly the second largest city in the British Empire after the Acts of Union in 1800.\n",
      "Embedding: [[ 0.27140695 -0.07319725  0.03504146 ... -0.19928218  0.33742058\n",
      "   0.0933129 ]]\n",
      "\n",
      "Sentence: Following the partition of Ireland in 1922, Dublin became the capital of the Irish Free State, later renamed Ireland.\n",
      "Embedding: [[-0.05603862 -0.0938089   0.17339778 ... -0.08651101  0.29047495\n",
      "   0.2109    ]]\n",
      "\n",
      "Sentence: Dublin is an historical and contemporary centre for education, the arts, administration and industry.\n",
      "Embedding: [[-0.06158484 -0.5016272  -0.12448286 ... -0.10977264  0.27258813\n",
      "   0.43342486]]\n",
      "\n",
      "Sentence: As of 2018 the city was listed by the Globalization and World Cities Research Network (GaWC) as a global city, with a ranking of \"Alpha minus\", which places it amongst the top thirty cities in the world.\n",
      "Embedding: [[-0.01943143  0.11316455  0.13482533 ... -0.28375152 -0.13698237\n",
      "  -0.04518849]]\n",
      "\n"
     ]
    }
   ],
   "source": [
    "for sentence, embedding in zip(sentences, sentence_embeddings):\n",
    "    print(\"Sentence:\", sentence)\n",
    "    print(\"Embedding:\", embedding)\n",
    "    print(\"\")"
   ]
  },
  {
   "cell_type": "code",
   "execution_count": 8,
   "metadata": {},
   "outputs": [
    {
     "name": "stdout",
     "output_type": "stream",
     "text": [
      "(11, 1024)\n"
     ]
    }
   ],
   "source": [
    "sentence_embeddings = np.array(sentence_embeddings)\n",
    "sentence_embeddings =sentence_embeddings.reshape(-1,1024)\n",
    "print(sentence_embeddings.shape)"
   ]
  },
  {
   "cell_type": "markdown",
   "metadata": {},
   "source": [
    "# Enter the amount of sentences you wished to have returned as a value of k below"
   ]
  },
  {
   "cell_type": "code",
   "execution_count": 9,
   "metadata": {},
   "outputs": [],
   "source": [
    "pca = PCA(2)\n",
    "features = pca.fit_transform(sentence_embeddings)\n",
    "random_state: int = 0\n",
    "k=3"
   ]
  },
  {
   "cell_type": "code",
   "execution_count": 10,
   "metadata": {},
   "outputs": [],
   "source": [
    "model = KMeans(n_clusters=k, random_state=random_state).fit(features)\n",
    "label = model.fit_predict(features)"
   ]
  },
  {
   "cell_type": "code",
   "execution_count": 11,
   "metadata": {},
   "outputs": [
    {
     "data": {
      "text/plain": [
       "<AxesSubplot:>"
      ]
     },
     "execution_count": 11,
     "metadata": {},
     "output_type": "execute_result"
    },
    {
     "data": {
      "image/png": "[encoded data removed]",
      "text/plain": [
       "<Figure size 432x288 with 1 Axes>"
      ]
     },
     "metadata": {},
     "output_type": "display_data"
    }
   ],
   "source": [
    "sns.boxplot(data=features)"
   ]
  },
  {
   "cell_type": "code",
   "execution_count": 12,
   "metadata": {},
   "outputs": [],
   "source": [
    "#get centroids of kmeans\n",
    "centroids = model.cluster_centers_"
   ]
  },
  {
   "cell_type": "code",
   "execution_count": 13,
   "metadata": {},
   "outputs": [
    {
     "data": {
      "image/png": "[encoded data removed]",
      "text/plain": [
       "<Figure size 1080x1080 with 1 Axes>"
      ]
     },
     "metadata": {},
     "output_type": "display_data"
    }
   ],
   "source": [
    "plt.figure(figsize=(15,15))\n",
    "plt.title('Plots for each sentence', fontsize=50, ha='center')\n",
    "plt.scatter(features[:,0], features[:,1], c=label, s=200, cmap='viridis')\n",
    "plt.savefig('ScatterPlot_08.png')\n",
    "plt.scatter(centroids[:, 0], centroids[:, 1], c='red', s=400, alpha=0.99);"
   ]
  },
  {
   "cell_type": "code",
   "execution_count": 14,
   "metadata": {},
   "outputs": [
    {
     "name": "stdout",
     "output_type": "stream",
     "text": [
      "dict_values([0, 7, 2])\n"
     ]
    }
   ],
   "source": [
    "#cluster_args  by k\n",
    "centroid_min = .4e10\n",
    "cur_arg = -1\n",
    "args = {}\n",
    "used_idx = []\n",
    "\n",
    "for j, centroid in enumerate(centroids):\n",
    "\n",
    "    for i, feature in enumerate(features):\n",
    "        value = np.linalg.norm(feature - centroid)\n",
    "\n",
    "\n",
    "        if value < centroid_min and i not in used_idx:\n",
    "            cur_arg = i\n",
    "            centroid_min = value\n",
    "\n",
    "    used_idx.append(cur_arg)\n",
    "    args[j] = cur_arg\n",
    "    centroid_min = .4e10\n",
    "    cur_arg = -1\n",
    "print(args.values())"
   ]
  },
  {
   "cell_type": "code",
   "execution_count": 15,
   "metadata": {},
   "outputs": [],
   "source": [
    "sorted_values =sorted(args.values())"
   ]
  },
  {
   "cell_type": "code",
   "execution_count": 16,
   "metadata": {},
   "outputs": [
    {
     "name": "stdout",
     "output_type": "stream",
     "text": [
      "[0, 2, 7]\n"
     ]
    }
   ],
   "source": [
    "print(sorted_values)"
   ]
  },
  {
   "cell_type": "code",
   "execution_count": 17,
   "metadata": {},
   "outputs": [
    {
     "data": {
      "text/plain": [
       "list"
      ]
     },
     "execution_count": 17,
     "metadata": {},
     "output_type": "execute_result"
    }
   ],
   "source": [
    "type(sentences)"
   ]
  },
  {
   "cell_type": "code",
   "execution_count": 18,
   "metadata": {},
   "outputs": [
    {
     "name": "stdout",
     "output_type": "stream",
     "text": [
      "Sentence  1   \n",
      "\n",
      "Dublin (/ˈdʌblɪn/, locally /ˈdʊb-/; Irish: Baile Átha Cliath[11] [ˈbˠalʲə aːhə ˈclʲiə; ˌbʲlʲaː ˈclʲiə]) is the capital and largest city of Ireland. \n",
      "\n",
      "Sentence  2   It is bordered on the south by the Dublin Mountains, a part of the Wicklow Mountains range. \n",
      "\n",
      "Sentence  3   [16] The city expanded rapidly from the 17th century and was briefly the second largest city in the British Empire after the Acts of Union in 1800. \n",
      "\n"
     ]
    }
   ],
   "source": [
    "i =0\n",
    "for i , sentence in enumerate(sorted_values):\n",
    "    print(\"Sentence \", i+1, \" \",sentences[sentence], \"\\n\")\n"
   ]
  },
  {
   "cell_type": "code",
   "execution_count": 19,
   "metadata": {},
   "outputs": [],
   "source": [
    "\n",
    "result = []\n",
    "for i , sentence in enumerate(sorted_values):\n",
    "    s = sentences[sentence]\n",
    "    result.append(s)\n",
    "    result.append(\"\\n\")\n",
    "\n",
    "s ='\\n'.join(result)\n"
   ]
  },
  {
   "cell_type": "code",
   "execution_count": 20,
   "metadata": {},
   "outputs": [
    {
     "name": "stdout",
     "output_type": "stream",
     "text": [
      "\n",
      "\n",
      "Dublin (/ˈdʌblɪn/, locally /ˈdʊb-/; Irish: Baile Átha Cliath[11] [ˈbˠalʲə aːhə ˈclʲiə; ˌbʲlʲaː ˈclʲiə]) is the capital and largest city of Ireland.\n",
      "\n",
      "\n",
      "It is bordered on the south by the Dublin Mountains, a part of the Wicklow Mountains range.\n",
      "\n",
      "\n",
      "[16] The city expanded rapidly from the 17th century and was briefly the second largest city in the British Empire after the Acts of Union in 1800.\n",
      "\n",
      "\n"
     ]
    }
   ],
   "source": [
    "print(s)"
   ]
  },
  {
   "cell_type": "code",
   "execution_count": 21,
   "metadata": {},
   "outputs": [
    {
     "name": "stdout",
     "output_type": "stream",
     "text": [
      "My program took 23.50220251083374 to run\n"
     ]
    }
   ],
   "source": [
    "print(\"My program took\", time.time() - start_time, \"to run\")"
   ]
  },
  {
   "cell_type": "code",
   "execution_count": null,
   "metadata": {},
   "outputs": [],
   "source": []
  },
  {
   "cell_type": "code",
   "execution_count": null,
   "metadata": {},
   "outputs": [],
   "source": []
  }
 ],
 "metadata": {
  "kernelspec": {
   "display_name": "Python 3",
   "language": "python",
   "name": "python3"
  },
  "language_info": {
   "codemirror_mode": {
    "name": "ipython",
    "version": 3
   },
   "file_extension": ".py",
   "mimetype": "text/x-python",
   "name": "python",
   "nbconvert_exporter": "python",
   "pygments_lexer": "ipython3",
   "version": "3.8.3"
  }
 },
 "nbformat": 4,
 "nbformat_minor": 4
}
